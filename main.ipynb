{
 "cells": [
  {
   "cell_type": "markdown",
   "metadata": {},
   "source": [
    "### Proyek Analisis Data: AIR QUALITY DATASET\n",
    "• Nama: Salsabila Amalia Putri\n",
    "• Email: salsabilaa448@gmail.com"
   ]
  },
  {
   "cell_type": "markdown",
   "metadata": {},
   "source": [
    "Menentukan Pertanyaaan yang nantinya akan ditampilkan di dashboard\n",
    "1. Bagaimanakah cuaca setiap jam di tiap daerah?\n",
    "2. Berapakah suhu Terpanas dan terdingin dan terletah di kota manakah?\n",
    "3. Berapakah Rata Rata Suhu Pertahun?\n",
    "4. Berapa persen Kontribusi kota dalam data?\n",
    "5. Bagaimana Grafik CO, SO, SUHU, O3, PM 10 dan apakah kesimpulannya?\n"
   ]
  },
  {
   "cell_type": "markdown",
   "metadata": {},
   "source": [
    "Menyiapkan library yang akan digunakan untuk analisis data"
   ]
  },
  {
   "cell_type": "code",
   "execution_count": 2,
   "metadata": {
    "notebookRunGroups": {
     "groupValue": "2"
    }
   },
   "outputs": [],
   "source": [
    "import os #mengakses sistem operasi,memanipulasi berkas, memanajemen\n",
    "import pandas as pd #ekspor dsn  impor data, data frame\n",
    "import seaborn as sns #membuat plot statistik, pengaturan warna, style plot\n",
    "import matplotlib.pyplot as plt #membuat grafik dan plot,\n",
    "from scipy.stats import zscore #"
   ]
  },
  {
   "cell_type": "markdown",
   "metadata": {
    "notebookRunGroups": {
     "groupValue": "1"
    }
   },
   "source": [
    "### Data Wrangling"
   ]
  },
  {
   "cell_type": "markdown",
   "metadata": {
    "notebookRunGroups": {
     "groupValue": "2"
    }
   },
   "source": [
    "#### Gathering Data| Menggabungkan semua data pada file csv untuk dijadikan 1 file"
   ]
  },
  {
   "cell_type": "code",
   "execution_count": 3,
   "metadata": {},
   "outputs": [],
   "source": [
    "\n",
    "# Tentukan direktori tempat file CSV berada\n",
    "directory = 'data' #nama folder\n",
    "\n",
    "# Inisialisasi list kosong untuk menyimpan DataFrames dari setiap file CSV\n",
    "dataframes = []\n",
    "\n",
    "# Loop melalui semua file dalam direktori\n",
    "for filename in os.listdir(directory): #os.listdir: Mengembalikan daftar semua file dan direktori dalam path yang diberikan (default adalah direktori saat ini).\n",
    "    if filename.endswith('.csv'):\n",
    "        # Membaca setiap file CSV dan mengubahnya menjadi DataFrame\n",
    "        filepath = os.path.join(directory, filename) #os.path.join(path1, path2, ...): Menggabungkan beberapa bagian path menjadi satu path lengkap sesuai dengan sistem operasi yang digunakan.\n",
    "        df = pd.read_csv(filepath)\n",
    "        dataframes.append(df)# mengumpulkan beberapa DataFrame menjadi satu list\n",
    "\n",
    "# Menggabungkan semua DataFrames menjadi satu\n",
    "data = pd.concat(dataframes, ignore_index=True)"
   ]
  },
  {
   "cell_type": "markdown",
   "metadata": {},
   "source": [
    "#### Assessing Data"
   ]
  },
  {
   "cell_type": "markdown",
   "metadata": {},
   "source": [
    "Melihat beberapa data di baris awal untuk memastikan apakah data yang digabungkan sudah benar"
   ]
  },
  {
   "cell_type": "code",
   "execution_count": 4,
   "metadata": {},
   "outputs": [
    {
     "data": {
      "text/html": [
       "<div>\n",
       "<style scoped>\n",
       "    .dataframe tbody tr th:only-of-type {\n",
       "        vertical-align: middle;\n",
       "    }\n",
       "\n",
       "    .dataframe tbody tr th {\n",
       "        vertical-align: top;\n",
       "    }\n",
       "\n",
       "    .dataframe thead th {\n",
       "        text-align: right;\n",
       "    }\n",
       "</style>\n",
       "<table border=\"1\" class=\"dataframe\">\n",
       "  <thead>\n",
       "    <tr style=\"text-align: right;\">\n",
       "      <th></th>\n",
       "      <th>No</th>\n",
       "      <th>year</th>\n",
       "      <th>month</th>\n",
       "      <th>day</th>\n",
       "      <th>hour</th>\n",
       "      <th>PM2.5</th>\n",
       "      <th>PM10</th>\n",
       "      <th>SO2</th>\n",
       "      <th>NO2</th>\n",
       "      <th>CO</th>\n",
       "      <th>O3</th>\n",
       "      <th>TEMP</th>\n",
       "      <th>PRES</th>\n",
       "      <th>DEWP</th>\n",
       "      <th>RAIN</th>\n",
       "      <th>wd</th>\n",
       "      <th>WSPM</th>\n",
       "      <th>station</th>\n",
       "    </tr>\n",
       "  </thead>\n",
       "  <tbody>\n",
       "    <tr>\n",
       "      <th>0</th>\n",
       "      <td>1</td>\n",
       "      <td>2013</td>\n",
       "      <td>3</td>\n",
       "      <td>1</td>\n",
       "      <td>0</td>\n",
       "      <td>4.0</td>\n",
       "      <td>4.0</td>\n",
       "      <td>4.0</td>\n",
       "      <td>7.0</td>\n",
       "      <td>300.0</td>\n",
       "      <td>77.0</td>\n",
       "      <td>-0.7</td>\n",
       "      <td>1023.0</td>\n",
       "      <td>-18.8</td>\n",
       "      <td>0.0</td>\n",
       "      <td>NNW</td>\n",
       "      <td>4.4</td>\n",
       "      <td>Aotizhongxin</td>\n",
       "    </tr>\n",
       "    <tr>\n",
       "      <th>1</th>\n",
       "      <td>2</td>\n",
       "      <td>2013</td>\n",
       "      <td>3</td>\n",
       "      <td>1</td>\n",
       "      <td>1</td>\n",
       "      <td>8.0</td>\n",
       "      <td>8.0</td>\n",
       "      <td>4.0</td>\n",
       "      <td>7.0</td>\n",
       "      <td>300.0</td>\n",
       "      <td>77.0</td>\n",
       "      <td>-1.1</td>\n",
       "      <td>1023.2</td>\n",
       "      <td>-18.2</td>\n",
       "      <td>0.0</td>\n",
       "      <td>N</td>\n",
       "      <td>4.7</td>\n",
       "      <td>Aotizhongxin</td>\n",
       "    </tr>\n",
       "    <tr>\n",
       "      <th>2</th>\n",
       "      <td>3</td>\n",
       "      <td>2013</td>\n",
       "      <td>3</td>\n",
       "      <td>1</td>\n",
       "      <td>2</td>\n",
       "      <td>7.0</td>\n",
       "      <td>7.0</td>\n",
       "      <td>5.0</td>\n",
       "      <td>10.0</td>\n",
       "      <td>300.0</td>\n",
       "      <td>73.0</td>\n",
       "      <td>-1.1</td>\n",
       "      <td>1023.5</td>\n",
       "      <td>-18.2</td>\n",
       "      <td>0.0</td>\n",
       "      <td>NNW</td>\n",
       "      <td>5.6</td>\n",
       "      <td>Aotizhongxin</td>\n",
       "    </tr>\n",
       "    <tr>\n",
       "      <th>3</th>\n",
       "      <td>4</td>\n",
       "      <td>2013</td>\n",
       "      <td>3</td>\n",
       "      <td>1</td>\n",
       "      <td>3</td>\n",
       "      <td>6.0</td>\n",
       "      <td>6.0</td>\n",
       "      <td>11.0</td>\n",
       "      <td>11.0</td>\n",
       "      <td>300.0</td>\n",
       "      <td>72.0</td>\n",
       "      <td>-1.4</td>\n",
       "      <td>1024.5</td>\n",
       "      <td>-19.4</td>\n",
       "      <td>0.0</td>\n",
       "      <td>NW</td>\n",
       "      <td>3.1</td>\n",
       "      <td>Aotizhongxin</td>\n",
       "    </tr>\n",
       "    <tr>\n",
       "      <th>4</th>\n",
       "      <td>5</td>\n",
       "      <td>2013</td>\n",
       "      <td>3</td>\n",
       "      <td>1</td>\n",
       "      <td>4</td>\n",
       "      <td>3.0</td>\n",
       "      <td>3.0</td>\n",
       "      <td>12.0</td>\n",
       "      <td>12.0</td>\n",
       "      <td>300.0</td>\n",
       "      <td>72.0</td>\n",
       "      <td>-2.0</td>\n",
       "      <td>1025.2</td>\n",
       "      <td>-19.5</td>\n",
       "      <td>0.0</td>\n",
       "      <td>N</td>\n",
       "      <td>2.0</td>\n",
       "      <td>Aotizhongxin</td>\n",
       "    </tr>\n",
       "  </tbody>\n",
       "</table>\n",
       "</div>"
      ],
      "text/plain": [
       "   No  year  month  day  hour  PM2.5  PM10   SO2   NO2     CO    O3  TEMP  \\\n",
       "0   1  2013      3    1     0    4.0   4.0   4.0   7.0  300.0  77.0  -0.7   \n",
       "1   2  2013      3    1     1    8.0   8.0   4.0   7.0  300.0  77.0  -1.1   \n",
       "2   3  2013      3    1     2    7.0   7.0   5.0  10.0  300.0  73.0  -1.1   \n",
       "3   4  2013      3    1     3    6.0   6.0  11.0  11.0  300.0  72.0  -1.4   \n",
       "4   5  2013      3    1     4    3.0   3.0  12.0  12.0  300.0  72.0  -2.0   \n",
       "\n",
       "     PRES  DEWP  RAIN   wd  WSPM       station  \n",
       "0  1023.0 -18.8   0.0  NNW   4.4  Aotizhongxin  \n",
       "1  1023.2 -18.2   0.0    N   4.7  Aotizhongxin  \n",
       "2  1023.5 -18.2   0.0  NNW   5.6  Aotizhongxin  \n",
       "3  1024.5 -19.4   0.0   NW   3.1  Aotizhongxin  \n",
       "4  1025.2 -19.5   0.0    N   2.0  Aotizhongxin  "
      ]
     },
     "execution_count": 4,
     "metadata": {},
     "output_type": "execute_result"
    }
   ],
   "source": [
    "data.head()\n",
    "# digunakan untuk melihat beberapa baris awal dari DataFrame\n",
    "# digunakan untuk memahami struktur data\n",
    "# mengonfirmasi data (sdh dimuat dgn benar atau blm)\n",
    "# () bisa diisikan angka fungsinya untuk menampilkan data sejumlah angka yang telah ditentukan"
   ]
  },
  {
   "cell_type": "markdown",
   "metadata": {},
   "source": [
    "menghitung panjang data yang nantinya bisa digunakan untuk memastikan hasil pemrosesan data"
   ]
  },
  {
   "cell_type": "code",
   "execution_count": 5,
   "metadata": {},
   "outputs": [
    {
     "data": {
      "text/plain": [
       "420768"
      ]
     },
     "execution_count": 5,
     "metadata": {},
     "output_type": "execute_result"
    }
   ],
   "source": [
    "len(data)#Menghitung jumlah baris untuk memastikan jumlah data yang digabungkan sudah benar atau belum"
   ]
  },
  {
   "cell_type": "markdown",
   "metadata": {},
   "source": [
    "eksport file ke xlsx untuk memastikan data data yang mau diproses agar menggunakan langkah yang sesuai untuk data cleaning"
   ]
  },
  {
   "cell_type": "code",
   "execution_count": 6,
   "metadata": {},
   "outputs": [
    {
     "name": "stdout",
     "output_type": "stream",
     "text": [
      "File lama dihapus.\n",
      "Hasil analisis disimpan dalam file: cuaca_file.xlsx\n"
     ]
    }
   ],
   "source": [
    "# Nama file yang akan disimpan\n",
    "output_filename = \"cuaca_file.xlsx\"\n",
    "\n",
    "# Memeriksa apakah file lama sudah ada, jika ada maka akan dihapus\n",
    "if os.path.exists(output_filename):\n",
    "    os.remove(output_filename)\n",
    "    print(\"File lama dihapus.\")\n",
    "\n",
    "# Menyimpan data frame ke dalam file Excel\n",
    "data.to_excel(output_filename, index=False)\n",
    "print(f\"Hasil analisis disimpan dalam file: {output_filename}\")"
   ]
  },
  {
   "cell_type": "markdown",
   "metadata": {},
   "source": [
    "### Data Cleaning"
   ]
  },
  {
   "cell_type": "markdown",
   "metadata": {},
   "source": [
    "Melihat jumlah data yang kosong pada setiap kolomnya"
   ]
  },
  {
   "cell_type": "code",
   "execution_count": 7,
   "metadata": {},
   "outputs": [
    {
     "data": {
      "text/plain": [
       "No             0\n",
       "year           0\n",
       "month          0\n",
       "day            0\n",
       "hour           0\n",
       "PM2.5       8739\n",
       "PM10        6449\n",
       "SO2         9021\n",
       "NO2        12116\n",
       "CO         20701\n",
       "O3         13277\n",
       "TEMP         398\n",
       "PRES         393\n",
       "DEWP         403\n",
       "RAIN         390\n",
       "wd          1822\n",
       "WSPM         318\n",
       "station        0\n",
       "dtype: int64"
      ]
     },
     "execution_count": 7,
     "metadata": {},
     "output_type": "execute_result"
    }
   ],
   "source": [
    "data.isnull().sum() #menunjukkan jumlah nilai null dalam setiap kolom DataFrame"
   ]
  },
  {
   "cell_type": "markdown",
   "metadata": {},
   "source": [
    "Melihat apakah ada data yang terduplikat"
   ]
  },
  {
   "cell_type": "code",
   "execution_count": 8,
   "metadata": {},
   "outputs": [
    {
     "data": {
      "text/plain": [
       "0"
      ]
     },
     "execution_count": 8,
     "metadata": {},
     "output_type": "execute_result"
    }
   ],
   "source": [
    "data.duplicated().sum()#melihat data yang terduplikat"
   ]
  },
  {
   "cell_type": "markdown",
   "metadata": {},
   "source": [
    "Mengisi missing value dengan rata rata data yang ada"
   ]
  },
  {
   "cell_type": "code",
   "execution_count": 9,
   "metadata": {},
   "outputs": [],
   "source": [
    "import numpy as np"
   ]
  },
  {
   "cell_type": "code",
   "execution_count": 10,
   "metadata": {},
   "outputs": [],
   "source": [
    "\n",
    "#menggunakan teknik imputasi(MENGISI NILAI YG KOSOSNG) dengan rata rata \n",
    "# Menentukan kolom numerik\n",
    "numeric_columns = data.select_dtypes(include=np.number).columns\n",
    "\n",
    "# Mengisi nilai kosong pada kolom numerik dengan rata-rata\n",
    "data[numeric_columns] = data[numeric_columns].fillna(data[numeric_columns].mean())\n"
   ]
  },
  {
   "cell_type": "markdown",
   "metadata": {},
   "source": [
    "Memastikan lagi apakah masih ada data yang kosong"
   ]
  },
  {
   "cell_type": "code",
   "execution_count": 11,
   "metadata": {},
   "outputs": [
    {
     "data": {
      "text/plain": [
       "No            0\n",
       "year          0\n",
       "month         0\n",
       "day           0\n",
       "hour          0\n",
       "PM2.5         0\n",
       "PM10          0\n",
       "SO2           0\n",
       "NO2           0\n",
       "CO            0\n",
       "O3            0\n",
       "TEMP          0\n",
       "PRES          0\n",
       "DEWP          0\n",
       "RAIN          0\n",
       "wd         1822\n",
       "WSPM          0\n",
       "station       0\n",
       "dtype: int64"
      ]
     },
     "execution_count": 11,
     "metadata": {},
     "output_type": "execute_result"
    }
   ],
   "source": [
    "data.isna().sum()#menghitung jumlah NaN "
   ]
  },
  {
   "cell_type": "markdown",
   "metadata": {},
   "source": [
    "Menghapus data missing value"
   ]
  },
  {
   "cell_type": "code",
   "execution_count": 12,
   "metadata": {},
   "outputs": [],
   "source": [
    "\n",
    "data.dropna(axis=0, inplace=True)"
   ]
  },
  {
   "cell_type": "markdown",
   "metadata": {},
   "source": [
    "Mengidentifikasi outlier dalam data numerik menggunakan metode Interquartile\n",
    "#Menghitung kuartil pertama (Q1), kuartil ketiga (Q3), dan rentang IQR (Interquartile Range).\n",
    "#Menghitung batas bawah dan batas atas untuk outlier berdasarkan nilai Q1, Q3, dan IQR dengan menggunakan aturan 1.5 * IQR di bawah Q1 dan di atas Q3.\n"
   ]
  },
  {
   "cell_type": "code",
   "execution_count": 13,
   "metadata": {},
   "outputs": [
    {
     "name": "stdout",
     "output_type": "stream",
     "text": [
      "Outliers in No:\n",
      "Empty DataFrame\n",
      "Columns: [No, year, month, day, hour, PM2.5, PM10, SO2, NO2, CO, O3, TEMP, PRES, DEWP, RAIN, wd, WSPM, station]\n",
      "Index: []\n",
      "Outliers in year:\n",
      "Empty DataFrame\n",
      "Columns: [No, year, month, day, hour, PM2.5, PM10, SO2, NO2, CO, O3, TEMP, PRES, DEWP, RAIN, wd, WSPM, station]\n",
      "Index: []\n",
      "Outliers in month:\n",
      "Empty DataFrame\n",
      "Columns: [No, year, month, day, hour, PM2.5, PM10, SO2, NO2, CO, O3, TEMP, PRES, DEWP, RAIN, wd, WSPM, station]\n",
      "Index: []\n",
      "Outliers in day:\n",
      "Empty DataFrame\n",
      "Columns: [No, year, month, day, hour, PM2.5, PM10, SO2, NO2, CO, O3, TEMP, PRES, DEWP, RAIN, wd, WSPM, station]\n",
      "Index: []\n",
      "Outliers in hour:\n",
      "Empty DataFrame\n",
      "Columns: [No, year, month, day, hour, PM2.5, PM10, SO2, NO2, CO, O3, TEMP, PRES, DEWP, RAIN, wd, WSPM, station]\n",
      "Index: []\n",
      "Outliers in PM2.5:\n",
      "           No  year  month  day  hour  PM2.5   PM10    SO2    NO2      CO  \\\n",
      "120       121  2013      3    6     0  284.0  315.0  133.0  174.0  4000.0   \n",
      "121       122  2013      3    6     1  272.0  300.0  131.0  166.0  4000.0   \n",
      "122       123  2013      3    6     2  242.0  265.0  109.0  146.0  3200.0   \n",
      "135       136  2013      3    6    15  246.0  277.0  140.0  157.0  2899.0   \n",
      "136       137  2013      3    6    16  248.0  285.0  154.0  146.0  2799.0   \n",
      "...       ...   ...    ...  ...   ...    ...    ...    ...    ...     ...   \n",
      "420459  34756  2017      2   16     3  266.0  266.0   46.0  146.0  3200.0   \n",
      "420460  34757  2017      2   16     4  264.0  264.0   45.0  140.0  3300.0   \n",
      "420461  34758  2017      2   16     5  262.0  262.0   42.0  127.0  3000.0   \n",
      "420462  34759  2017      2   16     6  261.0  261.0   40.0  132.0  3200.0   \n",
      "420463  34760  2017      2   16     7  256.0  256.0   42.0  132.0  3000.0   \n",
      "\n",
      "          O3  TEMP    PRES  DEWP  RAIN   wd  WSPM        station  \n",
      "120     28.0   4.9  1008.5  -6.4   0.0   NE   1.2   Aotizhongxin  \n",
      "121     22.0   4.8  1008.3  -5.9   0.0   NE   1.5   Aotizhongxin  \n",
      "122     22.0   4.1  1007.8  -5.9   0.0   NE   1.9   Aotizhongxin  \n",
      "135     10.0  14.7  1005.5  -3.2   0.0  SSW   2.5   Aotizhongxin  \n",
      "136     17.0  14.2  1005.5  -3.2   0.0    S   1.4   Aotizhongxin  \n",
      "...      ...   ...     ...   ...   ...  ...   ...            ...  \n",
      "420459  64.0   3.6  1008.8  -6.1   0.0    N   1.3  Wanshouxigong  \n",
      "420460  64.0   3.7  1008.0  -6.0   0.0    N   1.3  Wanshouxigong  \n",
      "420461  64.0   2.3  1008.0  -6.1   0.0  ENE   1.4  Wanshouxigong  \n",
      "420462  64.0   3.1  1008.9  -6.1   0.0    N   1.9  Wanshouxigong  \n",
      "420463   2.0   5.0  1009.5  -6.3   0.0  NNE   2.4  Wanshouxigong  \n",
      "\n",
      "[20617 rows x 18 columns]\n",
      "Outliers in PM10:\n",
      "           No  year  month  day  hour  PM2.5   PM10    SO2    NO2      CO  \\\n",
      "120       121  2013      3    6     0  284.0  315.0  133.0  174.0  4000.0   \n",
      "139       140  2013      3    6    19  242.0  338.0  124.0  164.0  3700.0   \n",
      "140       141  2013      3    6    20  254.0  396.0  107.0  154.0  4200.0   \n",
      "141       142  2013      3    6    21  266.0  380.0  117.0  159.0  3799.0   \n",
      "142       143  2013      3    6    22  254.0  335.0  111.0  148.0  4099.0   \n",
      "...       ...   ...    ...  ...   ...    ...    ...    ...    ...     ...   \n",
      "420187  34484  2017      2    4    19  409.0  409.0   56.0  159.0   400.0   \n",
      "420188  34485  2017      2    4    20  389.0  389.0   42.0  153.0   400.0   \n",
      "420358  34655  2017      2   11    22  259.0  369.0   75.0  108.0  1500.0   \n",
      "420359  34656  2017      2   11    23  303.0  410.0   92.0  109.0  1700.0   \n",
      "420360  34657  2017      2   12     0  350.0  388.0   96.0  106.0  2300.0   \n",
      "\n",
      "          O3  TEMP    PRES  DEWP  RAIN   wd  WSPM        station  \n",
      "120     28.0   4.9  1008.5  -6.4   0.0   NE   1.2   Aotizhongxin  \n",
      "139     17.0   5.1  1007.6  -2.5   0.0  WSW   1.2   Aotizhongxin  \n",
      "140     17.0   4.4  1008.2  -2.5   0.0  SSW   1.1   Aotizhongxin  \n",
      "141     17.0   3.8  1007.7  -2.2   0.0  WSW   1.9   Aotizhongxin  \n",
      "142     17.0   2.4  1007.3  -2.5   0.0  WSW   1.2   Aotizhongxin  \n",
      "...      ...   ...     ...   ...   ...  ...   ...            ...  \n",
      "420187  10.0   7.1  1013.5  -8.1   0.0  WNW   2.4  Wanshouxigong  \n",
      "420188   7.0   7.7  1014.1 -10.2   0.0   NW   3.0  Wanshouxigong  \n",
      "420358  76.0  -1.7  1023.6 -13.9   0.0  ENE   0.9  Wanshouxigong  \n",
      "420359   2.0  -1.9  1023.5 -14.0   0.0    N   0.8  Wanshouxigong  \n",
      "420360   2.0  -3.2  1023.6 -12.9   0.0   NE   1.1  Wanshouxigong  \n",
      "\n",
      "[14920 rows x 18 columns]\n",
      "Outliers in SO2:\n",
      "           No  year  month  day  hour  PM2.5   PM10   SO2    NO2      CO  \\\n",
      "33         34  2013      3    2     9   10.0   14.0  47.0   62.0   700.0   \n",
      "41         42  2013      3    2    17   44.0   58.0  45.0   77.0  1200.0   \n",
      "42         43  2013      3    2    18   54.0   79.0  50.0   80.0  1100.0   \n",
      "43         44  2013      3    2    19   61.0   86.0  50.0   97.0  1300.0   \n",
      "44         45  2013      3    2    20   67.0   96.0  54.0  108.0  1399.0   \n",
      "...       ...   ...    ...  ...   ...    ...    ...   ...    ...     ...   \n",
      "420537  34834  2017      2   19     9  157.0  181.0  51.0   93.0  2000.0   \n",
      "420538  34835  2017      2   19    10  163.0  177.0  56.0   86.0  2000.0   \n",
      "420539  34836  2017      2   19    11  172.0  172.0  55.0   80.0  2000.0   \n",
      "420540  34837  2017      2   19    12  169.0  181.0  52.0   80.0   200.0   \n",
      "420541  34838  2017      2   19    13  172.0  174.0  47.0   87.0  2000.0   \n",
      "\n",
      "          O3  TEMP    PRES  DEWP  RAIN   wd  WSPM        station  \n",
      "33      29.0   0.6  1029.7 -16.7   0.0   NE   1.7   Aotizhongxin  \n",
      "41      30.0   2.2  1023.4 -13.6   0.0  SSE   0.4   Aotizhongxin  \n",
      "42      24.0   1.2  1023.2 -12.3   0.0    W   0.9   Aotizhongxin  \n",
      "43      10.0   1.5  1022.9 -13.8   0.0   NE   1.2   Aotizhongxin  \n",
      "44       2.0   1.2  1022.9 -14.1   0.0  NNE   1.2   Aotizhongxin  \n",
      "...      ...   ...     ...   ...   ...  ...   ...            ...  \n",
      "420537   6.0   3.4  1003.2  -5.8   0.0   NE   0.2  Wanshouxigong  \n",
      "420538  15.0   5.1  1003.6  -7.4   0.0   NE   1.2  Wanshouxigong  \n",
      "420539  28.0   6.7  1003.1  -7.0   0.0   NE   2.9  Wanshouxigong  \n",
      "420540  79.0   8.6  1002.7  -6.8   0.0  NNE   2.3  Wanshouxigong  \n",
      "420541  40.0  10.2  1002.1  -6.6   0.0  NNE   1.5  Wanshouxigong  \n",
      "\n",
      "[38163 rows x 18 columns]\n",
      "Outliers in NO2:\n",
      "           No  year  month  day  hour  PM2.5   PM10    SO2    NO2      CO  \\\n",
      "109       110  2013      3    5    13  163.0  193.0   94.0  147.0  2200.0   \n",
      "110       111  2013      3    5    14  168.0  182.0   85.0  158.0  2100.0   \n",
      "111       112  2013      3    5    15  165.0  171.0   85.0  172.0  2200.0   \n",
      "112       113  2013      3    5    16  166.0  186.0   97.0  194.0  2700.0   \n",
      "113       114  2013      3    5    17  190.0  218.0  101.0  204.0  2799.0   \n",
      "...       ...   ...    ...  ...   ...    ...    ...    ...    ...     ...   \n",
      "420456  34753  2017      2   16     0  267.0  267.0   54.0  162.0  3600.0   \n",
      "420457  34754  2017      2   16     1  267.0  267.0   57.0  158.0  3400.0   \n",
      "420458  34755  2017      2   16     2  273.0  273.0   48.0  151.0  3500.0   \n",
      "420459  34756  2017      2   16     3  266.0  266.0   46.0  146.0  3200.0   \n",
      "420460  34757  2017      2   16     4  264.0  264.0   45.0  140.0  3300.0   \n",
      "\n",
      "          O3  TEMP    PRES  DEWP  RAIN   wd  WSPM        station  \n",
      "109     84.0  12.6  1008.5  -8.0   0.0    N   1.0   Aotizhongxin  \n",
      "110     84.0  13.5  1007.7  -7.8   0.0  NNE   1.4   Aotizhongxin  \n",
      "111     78.0  13.8  1007.2  -7.6   0.0   NE   1.2   Aotizhongxin  \n",
      "112     78.0  13.2  1007.1  -7.0   0.0   NE   2.0   Aotizhongxin  \n",
      "113     75.0  12.1  1007.7  -6.4   0.0  NNE   1.6   Aotizhongxin  \n",
      "...      ...   ...     ...   ...   ...  ...   ...            ...  \n",
      "420456  64.0   2.0  1009.2  -5.9   0.0  ENE   0.7  Wanshouxigong  \n",
      "420457  64.0   2.4  1009.3  -5.7   0.0   NE   1.2  Wanshouxigong  \n",
      "420458  64.0   2.5  1008.9  -5.6   0.0  ENE   1.4  Wanshouxigong  \n",
      "420459  64.0   3.6  1008.8  -6.1   0.0    N   1.3  Wanshouxigong  \n",
      "420460  64.0   3.7  1008.0  -6.0   0.0    N   1.3  Wanshouxigong  \n",
      "\n",
      "[8254 rows x 18 columns]\n",
      "Outliers in CO:\n",
      "           No  year  month  day  hour  PM2.5   PM10    SO2    NO2      CO  \\\n",
      "117       118  2013      3    5    21  215.0  252.0   93.0  178.0  3100.0   \n",
      "118       119  2013      3    5    22  219.0  253.0   92.0  169.0  3200.0   \n",
      "119       120  2013      3    5    23  226.0  269.0  147.0  184.0  4400.0   \n",
      "120       121  2013      3    6     0  284.0  315.0  133.0  174.0  4000.0   \n",
      "121       122  2013      3    6     1  272.0  300.0  131.0  166.0  4000.0   \n",
      "...       ...   ...    ...  ...   ...    ...    ...    ...    ...     ...   \n",
      "420457  34754  2017      2   16     1  267.0  267.0   57.0  158.0  3400.0   \n",
      "420458  34755  2017      2   16     2  273.0  273.0   48.0  151.0  3500.0   \n",
      "420459  34756  2017      2   16     3  266.0  266.0   46.0  146.0  3200.0   \n",
      "420460  34757  2017      2   16     4  264.0  264.0   45.0  140.0  3300.0   \n",
      "420462  34759  2017      2   16     6  261.0  261.0   40.0  132.0  3200.0   \n",
      "\n",
      "          O3  TEMP    PRES  DEWP  RAIN   wd  WSPM        station  \n",
      "117     31.0   2.9  1009.0  -4.6   0.0  NNE   1.2   Aotizhongxin  \n",
      "118     29.0   5.2  1008.9  -6.1   0.0   NE   1.1   Aotizhongxin  \n",
      "119     29.0   4.9  1008.4  -6.1   0.0   NE   1.4   Aotizhongxin  \n",
      "120     28.0   4.9  1008.5  -6.4   0.0   NE   1.2   Aotizhongxin  \n",
      "121     22.0   4.8  1008.3  -5.9   0.0   NE   1.5   Aotizhongxin  \n",
      "...      ...   ...     ...   ...   ...  ...   ...            ...  \n",
      "420457  64.0   2.4  1009.3  -5.7   0.0   NE   1.2  Wanshouxigong  \n",
      "420458  64.0   2.5  1008.9  -5.6   0.0  ENE   1.4  Wanshouxigong  \n",
      "420459  64.0   3.6  1008.8  -6.1   0.0    N   1.3  Wanshouxigong  \n",
      "420460  64.0   3.7  1008.0  -6.0   0.0    N   1.3  Wanshouxigong  \n",
      "420462  64.0   3.1  1008.9  -6.1   0.0    N   1.9  Wanshouxigong  \n",
      "\n",
      "[27793 rows x 18 columns]\n",
      "Outliers in O3:\n",
      "           No  year  month  day  hour       PM2.5   PM10   SO2   NO2  \\\n",
      "1576     1577  2013      5    5    16  233.000000  240.0  70.0  35.0   \n",
      "1577     1578  2013      5    5    17  228.000000  257.0  58.0  40.0   \n",
      "1597     1598  2013      5    6    13  278.000000  306.0  53.0  42.0   \n",
      "1598     1599  2013      5    6    14  201.000000  133.0  63.0  28.0   \n",
      "1599     1600  2013      5    6    15  124.000000   29.0  49.0  18.0   \n",
      "...       ...   ...    ...  ...   ...         ...    ...   ...   ...   \n",
      "416970  31267  2016      9   23    18   79.793428   84.0   4.0  37.0   \n",
      "416991  31288  2016      9   24    15  156.000000  156.0   3.0  48.0   \n",
      "416992  31289  2016      9   24    16  167.000000  167.0   3.0  39.0   \n",
      "416993  31290  2016      9   24    17  173.000000  173.0   3.0  40.0   \n",
      "417136  31433  2016      9   30    16  101.000000  101.0   2.0  37.0   \n",
      "\n",
      "                 CO        O3    TEMP    PRES  DEWP  RAIN   wd  WSPM  \\\n",
      "1576    1100.000000  206.0000  26.400  1008.2  14.2   0.0   SW   2.9   \n",
      "1577    1300.000000  189.0000  25.400  1007.9  14.5   0.0   SW   2.3   \n",
      "1597    1600.000000  198.0000  30.600  1007.3   9.5   0.0   SW   2.7   \n",
      "1598    1230.766454  214.6284  30.900  1006.9   9.2   0.0  SSW   3.4   \n",
      "1599     700.000000  198.0000  30.500  1006.6   8.2   0.0   SW   3.2   \n",
      "...             ...       ...     ...     ...   ...   ...  ...   ...   \n",
      "416970  1100.000000  185.0000  25.350  1006.0  17.3   0.0   SW   1.1   \n",
      "416991  1300.000000  197.0000  26.875  1004.0  17.8   0.0   SW   2.3   \n",
      "416992  1300.000000  211.0000  26.700  1004.0  18.2   0.0   SE   1.7   \n",
      "416993  1300.000000  191.0000  26.450  1004.0  18.4   0.0   SE   1.7   \n",
      "417136   900.000000  183.0000  24.000  1008.8   8.8   0.0  SSW   2.3   \n",
      "\n",
      "              station  \n",
      "1576     Aotizhongxin  \n",
      "1577     Aotizhongxin  \n",
      "1597     Aotizhongxin  \n",
      "1598     Aotizhongxin  \n",
      "1599     Aotizhongxin  \n",
      "...               ...  \n",
      "416970  Wanshouxigong  \n",
      "416991  Wanshouxigong  \n",
      "416992  Wanshouxigong  \n",
      "416993  Wanshouxigong  \n",
      "417136  Wanshouxigong  \n",
      "\n",
      "[18575 rows x 18 columns]\n",
      "Outliers in TEMP:\n",
      "Empty DataFrame\n",
      "Columns: [No, year, month, day, hour, PM2.5, PM10, SO2, NO2, CO, O3, TEMP, PRES, DEWP, RAIN, wd, WSPM, station]\n",
      "Index: []\n",
      "Outliers in PRES:\n",
      "Empty DataFrame\n",
      "Columns: [No, year, month, day, hour, PM2.5, PM10, SO2, NO2, CO, O3, TEMP, PRES, DEWP, RAIN, wd, WSPM, station]\n",
      "Index: []\n",
      "Outliers in DEWP:\n",
      "Empty DataFrame\n",
      "Columns: [No, year, month, day, hour, PM2.5, PM10, SO2, NO2, CO, O3, TEMP, PRES, DEWP, RAIN, wd, WSPM, station]\n",
      "Index: []\n",
      "Outliers in RAIN:\n",
      "           No  year  month  day  hour  PM2.5   PM10   SO2   NO2           CO  \\\n",
      "267       268  2013      3   12     3  117.0  127.0  73.0  81.0  1230.766454   \n",
      "268       269  2013      3   12     4  112.0  140.0  68.0  81.0  1399.000000   \n",
      "269       270  2013      3   12     5  140.0  237.0  34.0  74.0  2100.000000   \n",
      "270       271  2013      3   12     6  146.0  165.0  22.0  66.0  2100.000000   \n",
      "271       272  2013      3   12     7  115.0  121.0  21.0  77.0  2100.000000   \n",
      "...       ...   ...    ...  ...   ...    ...    ...   ...   ...          ...   \n",
      "420595  34892  2017      2   21    19   40.0   54.0   3.0  51.0   800.000000   \n",
      "420596  34893  2017      2   21    20   59.0   64.0   2.0  58.0   900.000000   \n",
      "420597  34894  2017      2   21    21   62.0   62.0   2.0  49.0   900.000000   \n",
      "420598  34895  2017      2   21    22   54.0   54.0   2.0  41.0   900.000000   \n",
      "420599  34896  2017      2   21    23   60.0   60.0   2.0  44.0   900.000000   \n",
      "\n",
      "          O3  TEMP    PRES  DEWP  RAIN   wd  WSPM        station  \n",
      "267     47.0   6.4  1005.8  -1.0   0.1    N   2.2   Aotizhongxin  \n",
      "268     47.0   4.3  1006.3   1.5   0.4    E   0.9   Aotizhongxin  \n",
      "269     47.0   4.7  1006.1   1.5   0.1  NNE   1.3   Aotizhongxin  \n",
      "270     47.0   4.1  1006.2   2.6   0.9    W   1.0   Aotizhongxin  \n",
      "271     47.0   3.5  1006.9   2.2   0.9   NW   1.4   Aotizhongxin  \n",
      "...      ...   ...     ...   ...   ...  ...   ...            ...  \n",
      "420595  29.0  -2.5  1022.6  -4.5   0.4  ESE   1.4  Wanshouxigong  \n",
      "420596  17.0  -2.6  1022.6  -4.3   0.5   SE   1.5  Wanshouxigong  \n",
      "420597  22.0  -2.5  1022.3  -4.1   0.8    S   1.1  Wanshouxigong  \n",
      "420598  28.0  -2.3  1021.9  -4.3   0.4  SSW   1.7  Wanshouxigong  \n",
      "420599  24.0  -2.5  1021.6  -4.8   0.2  SSW   2.0  Wanshouxigong  \n",
      "\n",
      "[16546 rows x 18 columns]\n",
      "Outliers in WSPM:\n",
      "           No  year  month  day  hour  PM2.5  PM10  SO2   NO2     CO    O3  \\\n",
      "0           1  2013      3    1     0    4.0   4.0  4.0   7.0  300.0  77.0   \n",
      "1           2  2013      3    1     1    8.0   8.0  4.0   7.0  300.0  77.0   \n",
      "2           3  2013      3    1     2    7.0   7.0  5.0  10.0  300.0  73.0   \n",
      "12         13  2013      3    1    12    3.0   6.0  7.0  13.0  300.0  74.0   \n",
      "13         14  2013      3    1    13    3.0   6.0  7.0  12.0  400.0  76.0   \n",
      "...       ...   ...    ...  ...   ...    ...   ...  ...   ...    ...   ...   \n",
      "420551  34848  2017      2   19    23    6.0  55.0  2.0   7.0  300.0  76.0   \n",
      "420552  34849  2017      2   20     0    7.0  26.0  2.0   9.0  300.0  82.0   \n",
      "420553  34850  2017      2   20     1    3.0  26.0  2.0  11.0  300.0  69.0   \n",
      "420554  34851  2017      2   20     2   10.0  21.0  2.0   9.0  300.0  82.0   \n",
      "420555  34852  2017      2   20     3    5.0  22.0  2.0   9.0  200.0  69.0   \n",
      "\n",
      "        TEMP    PRES  DEWP  RAIN   wd  WSPM        station  \n",
      "0       -0.7  1023.0 -18.8   0.0  NNW   4.4   Aotizhongxin  \n",
      "1       -1.1  1023.2 -18.2   0.0    N   4.7   Aotizhongxin  \n",
      "2       -1.1  1023.5 -18.2   0.0  NNW   5.6   Aotizhongxin  \n",
      "12       3.9  1027.3 -19.7   0.0  NNW   5.1   Aotizhongxin  \n",
      "13       5.3  1026.2 -19.3   0.0   NW   4.3   Aotizhongxin  \n",
      "...      ...     ...   ...   ...  ...   ...            ...  \n",
      "420551   2.2  1018.1 -20.4   0.0  NNW   4.8  Wanshouxigong  \n",
      "420552   1.8  1019.1 -20.7   0.0    N   4.5  Wanshouxigong  \n",
      "420553   1.5  1020.3 -21.7   0.0  NNE   6.8  Wanshouxigong  \n",
      "420554   0.9  1020.8 -22.2   0.0   NW   4.9  Wanshouxigong  \n",
      "420555   0.1  1021.7 -22.1   0.0  NNW   5.0  Wanshouxigong  \n",
      "\n",
      "[23065 rows x 18 columns]\n"
     ]
    }
   ],
   "source": [
    "def detect_outliers_IQR(data, column):\n",
    "    Q1 = data[column].quantile(0.25)\n",
    "    Q3 = data[column].quantile(0.75)\n",
    "    IQR = Q3 - Q1\n",
    "    lower_bound = Q1 - 1.5 * IQR\n",
    "    upper_bound = Q3 + 1.5 * IQR\n",
    "    outliers = data[(data[column] < lower_bound) | (data[column] > upper_bound)]\n",
    "    return outliers\n",
    "\n",
    "columns_to_check = data.select_dtypes(include=['number']).columns\n",
    "outliers_dict = {}\n",
    "\n",
    "for column in columns_to_check:\n",
    "    outliers = detect_outliers_IQR(data, column)\n",
    "    outliers_dict[column] = outliers\n",
    "\n",
    "# Menampilkan hasil outlier untuk setiap kolom\n",
    "for column, outliers in outliers_dict.items():\n",
    "    print(f\"Outliers in {column}:\")\n",
    "    print(outliers)\n",
    "\n",
    "\n"
   ]
  },
  {
   "cell_type": "markdown",
   "metadata": {},
   "source": [
    "Menghapus data outlier"
   ]
  },
  {
   "cell_type": "code",
   "execution_count": 14,
   "metadata": {},
   "outputs": [
    {
     "data": {
      "text/html": [
       "<div>\n",
       "<style scoped>\n",
       "    .dataframe tbody tr th:only-of-type {\n",
       "        vertical-align: middle;\n",
       "    }\n",
       "\n",
       "    .dataframe tbody tr th {\n",
       "        vertical-align: top;\n",
       "    }\n",
       "\n",
       "    .dataframe thead th {\n",
       "        text-align: right;\n",
       "    }\n",
       "</style>\n",
       "<table border=\"1\" class=\"dataframe\">\n",
       "  <thead>\n",
       "    <tr style=\"text-align: right;\">\n",
       "      <th></th>\n",
       "      <th>No</th>\n",
       "      <th>year</th>\n",
       "      <th>month</th>\n",
       "      <th>day</th>\n",
       "      <th>hour</th>\n",
       "      <th>PM2.5</th>\n",
       "      <th>PM10</th>\n",
       "      <th>SO2</th>\n",
       "      <th>NO2</th>\n",
       "      <th>CO</th>\n",
       "      <th>O3</th>\n",
       "      <th>TEMP</th>\n",
       "      <th>PRES</th>\n",
       "      <th>DEWP</th>\n",
       "      <th>RAIN</th>\n",
       "      <th>wd</th>\n",
       "      <th>WSPM</th>\n",
       "      <th>station</th>\n",
       "    </tr>\n",
       "  </thead>\n",
       "  <tbody>\n",
       "    <tr>\n",
       "      <th>0</th>\n",
       "      <td>1</td>\n",
       "      <td>2013</td>\n",
       "      <td>3</td>\n",
       "      <td>1</td>\n",
       "      <td>0</td>\n",
       "      <td>4.0</td>\n",
       "      <td>4.0</td>\n",
       "      <td>4.0</td>\n",
       "      <td>7.0</td>\n",
       "      <td>300.0</td>\n",
       "      <td>77.0</td>\n",
       "      <td>-0.7</td>\n",
       "      <td>1023.0</td>\n",
       "      <td>-18.8</td>\n",
       "      <td>0.0</td>\n",
       "      <td>NNW</td>\n",
       "      <td>4.4</td>\n",
       "      <td>Aotizhongxin</td>\n",
       "    </tr>\n",
       "    <tr>\n",
       "      <th>1</th>\n",
       "      <td>2</td>\n",
       "      <td>2013</td>\n",
       "      <td>3</td>\n",
       "      <td>1</td>\n",
       "      <td>1</td>\n",
       "      <td>8.0</td>\n",
       "      <td>8.0</td>\n",
       "      <td>4.0</td>\n",
       "      <td>7.0</td>\n",
       "      <td>300.0</td>\n",
       "      <td>77.0</td>\n",
       "      <td>-1.1</td>\n",
       "      <td>1023.2</td>\n",
       "      <td>-18.2</td>\n",
       "      <td>0.0</td>\n",
       "      <td>N</td>\n",
       "      <td>4.7</td>\n",
       "      <td>Aotizhongxin</td>\n",
       "    </tr>\n",
       "    <tr>\n",
       "      <th>2</th>\n",
       "      <td>3</td>\n",
       "      <td>2013</td>\n",
       "      <td>3</td>\n",
       "      <td>1</td>\n",
       "      <td>2</td>\n",
       "      <td>7.0</td>\n",
       "      <td>7.0</td>\n",
       "      <td>5.0</td>\n",
       "      <td>10.0</td>\n",
       "      <td>300.0</td>\n",
       "      <td>73.0</td>\n",
       "      <td>-1.1</td>\n",
       "      <td>1023.5</td>\n",
       "      <td>-18.2</td>\n",
       "      <td>0.0</td>\n",
       "      <td>NNW</td>\n",
       "      <td>5.6</td>\n",
       "      <td>Aotizhongxin</td>\n",
       "    </tr>\n",
       "    <tr>\n",
       "      <th>3</th>\n",
       "      <td>4</td>\n",
       "      <td>2013</td>\n",
       "      <td>3</td>\n",
       "      <td>1</td>\n",
       "      <td>3</td>\n",
       "      <td>6.0</td>\n",
       "      <td>6.0</td>\n",
       "      <td>11.0</td>\n",
       "      <td>11.0</td>\n",
       "      <td>300.0</td>\n",
       "      <td>72.0</td>\n",
       "      <td>-1.4</td>\n",
       "      <td>1024.5</td>\n",
       "      <td>-19.4</td>\n",
       "      <td>0.0</td>\n",
       "      <td>NW</td>\n",
       "      <td>3.1</td>\n",
       "      <td>Aotizhongxin</td>\n",
       "    </tr>\n",
       "    <tr>\n",
       "      <th>4</th>\n",
       "      <td>5</td>\n",
       "      <td>2013</td>\n",
       "      <td>3</td>\n",
       "      <td>1</td>\n",
       "      <td>4</td>\n",
       "      <td>3.0</td>\n",
       "      <td>3.0</td>\n",
       "      <td>12.0</td>\n",
       "      <td>12.0</td>\n",
       "      <td>300.0</td>\n",
       "      <td>72.0</td>\n",
       "      <td>-2.0</td>\n",
       "      <td>1025.2</td>\n",
       "      <td>-19.5</td>\n",
       "      <td>0.0</td>\n",
       "      <td>N</td>\n",
       "      <td>2.0</td>\n",
       "      <td>Aotizhongxin</td>\n",
       "    </tr>\n",
       "    <tr>\n",
       "      <th>...</th>\n",
       "      <td>...</td>\n",
       "      <td>...</td>\n",
       "      <td>...</td>\n",
       "      <td>...</td>\n",
       "      <td>...</td>\n",
       "      <td>...</td>\n",
       "      <td>...</td>\n",
       "      <td>...</td>\n",
       "      <td>...</td>\n",
       "      <td>...</td>\n",
       "      <td>...</td>\n",
       "      <td>...</td>\n",
       "      <td>...</td>\n",
       "      <td>...</td>\n",
       "      <td>...</td>\n",
       "      <td>...</td>\n",
       "      <td>...</td>\n",
       "      <td>...</td>\n",
       "    </tr>\n",
       "    <tr>\n",
       "      <th>420763</th>\n",
       "      <td>35060</td>\n",
       "      <td>2017</td>\n",
       "      <td>2</td>\n",
       "      <td>28</td>\n",
       "      <td>19</td>\n",
       "      <td>11.0</td>\n",
       "      <td>32.0</td>\n",
       "      <td>3.0</td>\n",
       "      <td>24.0</td>\n",
       "      <td>400.0</td>\n",
       "      <td>72.0</td>\n",
       "      <td>12.5</td>\n",
       "      <td>1013.5</td>\n",
       "      <td>-16.2</td>\n",
       "      <td>0.0</td>\n",
       "      <td>NW</td>\n",
       "      <td>2.4</td>\n",
       "      <td>Wanshouxigong</td>\n",
       "    </tr>\n",
       "    <tr>\n",
       "      <th>420764</th>\n",
       "      <td>35061</td>\n",
       "      <td>2017</td>\n",
       "      <td>2</td>\n",
       "      <td>28</td>\n",
       "      <td>20</td>\n",
       "      <td>13.0</td>\n",
       "      <td>32.0</td>\n",
       "      <td>3.0</td>\n",
       "      <td>41.0</td>\n",
       "      <td>500.0</td>\n",
       "      <td>50.0</td>\n",
       "      <td>11.6</td>\n",
       "      <td>1013.6</td>\n",
       "      <td>-15.1</td>\n",
       "      <td>0.0</td>\n",
       "      <td>WNW</td>\n",
       "      <td>0.9</td>\n",
       "      <td>Wanshouxigong</td>\n",
       "    </tr>\n",
       "    <tr>\n",
       "      <th>420765</th>\n",
       "      <td>35062</td>\n",
       "      <td>2017</td>\n",
       "      <td>2</td>\n",
       "      <td>28</td>\n",
       "      <td>21</td>\n",
       "      <td>14.0</td>\n",
       "      <td>28.0</td>\n",
       "      <td>4.0</td>\n",
       "      <td>38.0</td>\n",
       "      <td>500.0</td>\n",
       "      <td>54.0</td>\n",
       "      <td>10.8</td>\n",
       "      <td>1014.2</td>\n",
       "      <td>-13.3</td>\n",
       "      <td>0.0</td>\n",
       "      <td>NW</td>\n",
       "      <td>1.1</td>\n",
       "      <td>Wanshouxigong</td>\n",
       "    </tr>\n",
       "    <tr>\n",
       "      <th>420766</th>\n",
       "      <td>35063</td>\n",
       "      <td>2017</td>\n",
       "      <td>2</td>\n",
       "      <td>28</td>\n",
       "      <td>22</td>\n",
       "      <td>12.0</td>\n",
       "      <td>23.0</td>\n",
       "      <td>4.0</td>\n",
       "      <td>30.0</td>\n",
       "      <td>400.0</td>\n",
       "      <td>59.0</td>\n",
       "      <td>10.5</td>\n",
       "      <td>1014.4</td>\n",
       "      <td>-12.9</td>\n",
       "      <td>0.0</td>\n",
       "      <td>NNW</td>\n",
       "      <td>1.2</td>\n",
       "      <td>Wanshouxigong</td>\n",
       "    </tr>\n",
       "    <tr>\n",
       "      <th>420767</th>\n",
       "      <td>35064</td>\n",
       "      <td>2017</td>\n",
       "      <td>2</td>\n",
       "      <td>28</td>\n",
       "      <td>23</td>\n",
       "      <td>13.0</td>\n",
       "      <td>19.0</td>\n",
       "      <td>4.0</td>\n",
       "      <td>38.0</td>\n",
       "      <td>600.0</td>\n",
       "      <td>49.0</td>\n",
       "      <td>8.6</td>\n",
       "      <td>1014.1</td>\n",
       "      <td>-15.9</td>\n",
       "      <td>0.0</td>\n",
       "      <td>NNE</td>\n",
       "      <td>1.3</td>\n",
       "      <td>Wanshouxigong</td>\n",
       "    </tr>\n",
       "  </tbody>\n",
       "</table>\n",
       "<p>418946 rows × 18 columns</p>\n",
       "</div>"
      ],
      "text/plain": [
       "           No  year  month  day  hour  PM2.5  PM10   SO2   NO2     CO    O3  \\\n",
       "0           1  2013      3    1     0    4.0   4.0   4.0   7.0  300.0  77.0   \n",
       "1           2  2013      3    1     1    8.0   8.0   4.0   7.0  300.0  77.0   \n",
       "2           3  2013      3    1     2    7.0   7.0   5.0  10.0  300.0  73.0   \n",
       "3           4  2013      3    1     3    6.0   6.0  11.0  11.0  300.0  72.0   \n",
       "4           5  2013      3    1     4    3.0   3.0  12.0  12.0  300.0  72.0   \n",
       "...       ...   ...    ...  ...   ...    ...   ...   ...   ...    ...   ...   \n",
       "420763  35060  2017      2   28    19   11.0  32.0   3.0  24.0  400.0  72.0   \n",
       "420764  35061  2017      2   28    20   13.0  32.0   3.0  41.0  500.0  50.0   \n",
       "420765  35062  2017      2   28    21   14.0  28.0   4.0  38.0  500.0  54.0   \n",
       "420766  35063  2017      2   28    22   12.0  23.0   4.0  30.0  400.0  59.0   \n",
       "420767  35064  2017      2   28    23   13.0  19.0   4.0  38.0  600.0  49.0   \n",
       "\n",
       "        TEMP    PRES  DEWP  RAIN   wd  WSPM        station  \n",
       "0       -0.7  1023.0 -18.8   0.0  NNW   4.4   Aotizhongxin  \n",
       "1       -1.1  1023.2 -18.2   0.0    N   4.7   Aotizhongxin  \n",
       "2       -1.1  1023.5 -18.2   0.0  NNW   5.6   Aotizhongxin  \n",
       "3       -1.4  1024.5 -19.4   0.0   NW   3.1   Aotizhongxin  \n",
       "4       -2.0  1025.2 -19.5   0.0    N   2.0   Aotizhongxin  \n",
       "...      ...     ...   ...   ...  ...   ...            ...  \n",
       "420763  12.5  1013.5 -16.2   0.0   NW   2.4  Wanshouxigong  \n",
       "420764  11.6  1013.6 -15.1   0.0  WNW   0.9  Wanshouxigong  \n",
       "420765  10.8  1014.2 -13.3   0.0   NW   1.1  Wanshouxigong  \n",
       "420766  10.5  1014.4 -12.9   0.0  NNW   1.2  Wanshouxigong  \n",
       "420767   8.6  1014.1 -15.9   0.0  NNE   1.3  Wanshouxigong  \n",
       "\n",
       "[418946 rows x 18 columns]"
      ]
     },
     "execution_count": 14,
     "metadata": {},
     "output_type": "execute_result"
    }
   ],
   "source": [
    "# Menghitung z-score untuk setiap kolom yang akan diolah\n",
    "z_scores = data[columns_to_check].apply(zscore)\n",
    "\n",
    "# Mengidentifikasi outlier berdasarkan z-score yang melebihi threshold tertentu (misalnya 3)\n",
    "threshold = 3\n",
    "outliers = (z_scores > threshold).any(axis=1)\n",
    "\n",
    "# Menghapus data yang memiliki outlier\n",
    "data[~outliers]\n",
    "\n",
    "# Menyimpan dataset yang telah dibersihkan dari outlier\n",
    "data"
   ]
  },
  {
   "cell_type": "code",
   "execution_count": 15,
   "metadata": {},
   "outputs": [
    {
     "data": {
      "text/plain": [
       "No         0\n",
       "year       0\n",
       "month      0\n",
       "day        0\n",
       "hour       0\n",
       "PM2.5      0\n",
       "PM10       0\n",
       "SO2        0\n",
       "NO2        0\n",
       "CO         0\n",
       "O3         0\n",
       "TEMP       0\n",
       "PRES       0\n",
       "DEWP       0\n",
       "RAIN       0\n",
       "wd         0\n",
       "WSPM       0\n",
       "station    0\n",
       "dtype: int64"
      ]
     },
     "execution_count": 15,
     "metadata": {},
     "output_type": "execute_result"
    }
   ],
   "source": [
    "data.isna().sum()"
   ]
  },
  {
   "cell_type": "markdown",
   "metadata": {},
   "source": [
    "mendefinisikan korelasi data untuk melihat kedekatan hubungan antar data"
   ]
  },
  {
   "cell_type": "code",
   "execution_count": 16,
   "metadata": {},
   "outputs": [
    {
     "name": "stdout",
     "output_type": "stream",
     "text": [
      "          PM2.5      PM10       SO2       NO2        CO        O3      TEMP  \\\n",
      "PM2.5  1.000000  0.879356  0.478201  0.658206  0.768536 -0.146719 -0.128970   \n",
      "PM10   0.879356  1.000000  0.459096  0.645610  0.686620 -0.109560 -0.094776   \n",
      "SO2    0.478201  0.459096  1.000000  0.491751  0.525584 -0.162888 -0.318380   \n",
      "NO2    0.658206  0.645610  0.491751  1.000000  0.688356 -0.463551 -0.273427   \n",
      "CO     0.768536  0.686620  0.525584  0.688356  1.000000 -0.304982 -0.317143   \n",
      "O3    -0.146719 -0.109560 -0.162888 -0.463551 -0.304982  1.000000  0.585435   \n",
      "TEMP  -0.128970 -0.094776 -0.318380 -0.273427 -0.317143  0.585435  1.000000   \n",
      "PRES   0.017800 -0.018355  0.220488  0.170484  0.182460 -0.438742 -0.813282   \n",
      "DEWP   0.114297  0.070361 -0.263526 -0.030561 -0.054796  0.308186  0.820243   \n",
      "RAIN  -0.014082 -0.026312 -0.040060 -0.043288 -0.012922  0.023066  0.037622   \n",
      "WSPM  -0.268949 -0.181700 -0.108682 -0.393890 -0.289717  0.289969  0.030776   \n",
      "\n",
      "           PRES      DEWP      RAIN      WSPM  \n",
      "PM2.5  0.017800  0.114297 -0.014082 -0.268949  \n",
      "PM10  -0.018355  0.070361 -0.026312 -0.181700  \n",
      "SO2    0.220488 -0.263526 -0.040060 -0.108682  \n",
      "NO2    0.170484 -0.030561 -0.043288 -0.393890  \n",
      "CO     0.182460 -0.054796 -0.012922 -0.289717  \n",
      "O3    -0.438742  0.308186  0.023066  0.289969  \n",
      "TEMP  -0.813282  0.820243  0.037622  0.030776  \n",
      "PRES   1.000000 -0.750301 -0.060990  0.066948  \n",
      "DEWP  -0.750301  1.000000  0.086370 -0.297656  \n",
      "RAIN  -0.060990  0.086370  1.000000  0.020902  \n",
      "WSPM   0.066948 -0.297656  0.020902  1.000000  \n"
     ]
    },
    {
     "data": {
      "text/plain": [
       "' \\n    Nilai positif mendekati 1 menunjukkan korelasi positif sempurna. Variabel bergerak ke arah yang sama dengan nilai yang sama\\n    Nilai negatif mendekati -1 menunjukkan korelasi negatif sempurna. Variabel bergerak berlawanan arah. Satu meningkat satu lagi menurun\\n    Nilai mendekati 0 menunjukkan tidak adanya korelasi atau korelasi yang lemah.\\n'"
      ]
     },
     "execution_count": 16,
     "metadata": {},
     "output_type": "execute_result"
    }
   ],
   "source": [
    "kol = data[['PM2.5', 'PM10', 'SO2', 'NO2', 'CO', 'O3', 'TEMP', 'PRES', 'DEWP', 'RAIN', 'WSPM']]\n",
    "\n",
    "korelasi =kol.corr() #melihat korelasi\n",
    "print(korelasi)\n",
    "''' \n",
    "    Nilai positif mendekati 1 menunjukkan korelasi positif sempurna. Variabel bergerak ke arah yang sama dengan nilai yang sama\n",
    "    Nilai negatif mendekati -1 menunjukkan korelasi negatif sempurna. Variabel bergerak berlawanan arah. Satu meningkat satu lagi menurun\n",
    "    Nilai mendekati 0 menunjukkan tidak adanya korelasi atau korelasi yang lemah.\n",
    "'''"
   ]
  },
  {
   "cell_type": "markdown",
   "metadata": {},
   "source": [
    "### Exploratory Data Analysis (EDA)"
   ]
  },
  {
   "cell_type": "markdown",
   "metadata": {},
   "source": [
    "Membuat grafik heatmap untuk korelasi untuk mempermudah identifikasi"
   ]
  },
  {
   "cell_type": "code",
   "execution_count": 17,
   "metadata": {},
   "outputs": [
    {
     "data": {
      "image/png": "[encoded data removed]",
      "text/plain": [
       "<Figure size 1000x600 with 2 Axes>"
      ]
     },
     "metadata": {},
     "output_type": "display_data"
    }
   ],
   "source": [
    "\n",
    "plt.figure(figsize=(10, 6)) #membuat figur (grafik) dengan ukuran 10x6 inci\n",
    "sns.heatmap(korelasi, annot=True, cmap='coolwarm') # membuat heatmap berdasarkan matriks korelasi \n",
    "#annot= memunculkan angka korelasi pada heatmap\n",
    "plt.title('Heatmap Korelasi dalam Data Cuaca')\n",
    "plt.show()\n"
   ]
  },
  {
   "cell_type": "code",
   "execution_count": 18,
   "metadata": {},
   "outputs": [
    {
     "data": {
      "text/plain": [
       "Index(['No', 'year', 'month', 'day', 'hour', 'PM2.5', 'PM10', 'SO2', 'NO2',\n",
       "       'CO', 'O3', 'TEMP', 'PRES', 'DEWP', 'RAIN', 'wd', 'WSPM', 'station'],\n",
       "      dtype='object')"
      ]
     },
     "execution_count": 18,
     "metadata": {},
     "output_type": "execute_result"
    }
   ],
   "source": [
    "data.columns "
   ]
  },
  {
   "cell_type": "code",
   "execution_count": 19,
   "metadata": {},
   "outputs": [
    {
     "data": {
      "text/plain": [
       "0         NNW\n",
       "1           N\n",
       "2         NNW\n",
       "3          NW\n",
       "4           N\n",
       "         ... \n",
       "420763     NW\n",
       "420764    WNW\n",
       "420765     NW\n",
       "420766    NNW\n",
       "420767    NNE\n",
       "Name: wd, Length: 418946, dtype: object"
      ]
     },
     "execution_count": 19,
     "metadata": {},
     "output_type": "execute_result"
    }
   ],
   "source": [
    "data['wd']"
   ]
  },
  {
   "cell_type": "markdown",
   "metadata": {},
   "source": [
    "membuat perkiraan dengan pertimbangan suhu, rain, dan arah mata angin"
   ]
  },
  {
   "cell_type": "code",
   "execution_count": 20,
   "metadata": {},
   "outputs": [],
   "source": [
    "def prediksi_cuaca(row):\n",
    "    if row['TEMP'] > 30:#jika suhy lebih dari 30 dikategorikan panas\n",
    "        return 'Panas'\n",
    "    elif row['RAIN'] > 0:\n",
    "        return 'Hujan' #jika nilai rain lebih dari 0 maka cuacanya hujan\n",
    "    elif row['wd'] in ['NE', 'N', 'NNE', 'ENE', 'E']:\n",
    "        return 'Cerah'  # Cuaca cerah untuk arah angin ini\n",
    "    elif row['wd'] in ['ESE', 'SE', 'SSE', 'S', 'SSW']:\n",
    "        return 'Badai'  # Cuaca badai untuk arah angin ini\n",
    "    elif row['wd'] in ['SW', 'WSW', 'W', 'WNW', 'NW', 'NNW']:\n",
    "        return 'Mendung'  # Cuaca mendung untuk arah angin ini\n",
    "    else:\n",
    "        return 'Berawan'  # Cuaca berawan jika tidak ada kondisi yang cocok\n",
    "\n"
   ]
  },
  {
   "cell_type": "markdown",
   "metadata": {},
   "source": [
    "Menambah kolom baru yaitu kolom tanggal dan waktu"
   ]
  },
  {
   "cell_type": "code",
   "execution_count": 21,
   "metadata": {},
   "outputs": [],
   "source": [
    "\n",
    "data['day'] = pd.to_numeric(data['day'])\n",
    "data['month'] = pd.to_numeric(data['month'])\n",
    "data['year'] = pd.to_numeric(data['year'])\n",
    "\n",
    "data['tanggal'] = pd.to_datetime(data[['year', 'month', 'day']], errors='coerce')\n",
    "\n",
    "data['tanggal'] = data['tanggal'].dt.date\n"
   ]
  },
  {
   "cell_type": "code",
   "execution_count": 22,
   "metadata": {},
   "outputs": [
    {
     "data": {
      "text/plain": [
       "Index(['No', 'year', 'month', 'day', 'hour', 'PM2.5', 'PM10', 'SO2', 'NO2',\n",
       "       'CO', 'O3', 'TEMP', 'PRES', 'DEWP', 'RAIN', 'wd', 'WSPM', 'station',\n",
       "       'tanggal'],\n",
       "      dtype='object')"
      ]
     },
     "execution_count": 22,
     "metadata": {},
     "output_type": "execute_result"
    }
   ],
   "source": [
    "data.columns"
   ]
  },
  {
   "cell_type": "markdown",
   "metadata": {},
   "source": [
    "Menambahkan kolom hasil prediksi cuaca"
   ]
  },
  {
   "cell_type": "code",
   "execution_count": 24,
   "metadata": {},
   "outputs": [],
   "source": [
    "data['weather_condition'] = data.apply(prediksi_cuaca, axis=1) #membuat kolom baru dgn menerapkan fungsi prediksi cuaca\n",
    "data.to_csv('cuaca.csv', index=False)\n"
   ]
  },
  {
   "cell_type": "markdown",
   "metadata": {},
   "source": [
    "## Export"
   ]
  },
  {
   "cell_type": "code",
   "execution_count": 25,
   "metadata": {},
   "outputs": [
    {
     "name": "stdout",
     "output_type": "stream",
     "text": [
      "File lama dihapus.\n",
      "Hasil analisis disimpan dalam file: dashboard/cuaca_fix.xlsx\n"
     ]
    }
   ],
   "source": [
    "# Nama file yang akan disimpan\n",
    "output_filename = \"dashboard/cuaca_fix.xlsx\"\n",
    "\n",
    "# Memeriksa apakah file lama sudah ada, jika ada maka akan dihapus\n",
    "if os.path.exists(output_filename):\n",
    "    os.remove(output_filename)\n",
    "    print(\"File lama dihapus.\")\n",
    "\n",
    "# Menyimpan data frame ke dalam file Excel\n",
    "data.to_excel(output_filename, index=False)\n",
    "print(f\"Hasil analisis disimpan dalam file: {output_filename}\")"
   ]
  },
  {
   "cell_type": "code",
   "execution_count": 26,
   "metadata": {},
   "outputs": [
    {
     "name": "stdout",
     "output_type": "stream",
     "text": [
      "File lama dihapus.\n",
      "Hasil analisis disimpan dalam file: dashboard/cuaca.csv\n"
     ]
    }
   ],
   "source": [
    "# Nama file yang akan disimpan\n",
    "output_filename = \"dashboard/cuaca.csv\"\n",
    "\n",
    "# Memeriksa apakah file lama sudah ada, jika ada maka akan dihapus\n",
    "if os.path.exists(output_filename):\n",
    "    os.remove(output_filename)\n",
    "    print(\"File lama dihapus.\")\n",
    "\n",
    "# Menyimpan data frame ke dalam file Excel\n",
    "data.to_csv(output_filename, index=False)\n",
    "print(f\"Hasil analisis disimpan dalam file: {output_filename}\")"
   ]
  },
  {
   "cell_type": "markdown",
   "metadata": {},
   "source": [
    "## Visualization & Explanatory Analysis"
   ]
  },
  {
   "cell_type": "markdown",
   "metadata": {},
   "source": [
    "### Pertanyaan 1: Perkiraan cuaca setiap jam di tiap daerah\n",
    "//Ada di dashboard"
   ]
  },
  {
   "cell_type": "markdown",
   "metadata": {},
   "source": [
    "### Pertanyaan 2: melihat kota dengan suhu terdingin dan terpanas"
   ]
  },
  {
   "cell_type": "code",
   "execution_count": 27,
   "metadata": {},
   "outputs": [
    {
     "name": "stdout",
     "output_type": "stream",
     "text": [
      "Suhu Terdingin:\n",
      "     station     TEMP\n",
      "     Huairou -19.9 °C\n",
      "Aotizhongxin -16.8 °C\n",
      "      Dongsi -16.8 °C\n",
      "\n",
      "Suhu Terpanas:\n",
      "  station    TEMP\n",
      "  Gucheng 41.6 °C\n",
      "Changping 41.4 °C\n",
      " Dingling 41.4 °C\n"
     ]
    }
   ],
   "source": [
    "# Tampilkan kota-kota terdingin di kolom pertama\n",
    "city_temperatures = data.groupby('station')['TEMP'].min().reset_index()\n",
    "coldest_cities = city_temperatures.sort_values(by='TEMP', ascending=True).head(3)\n",
    "coldest_cities['TEMP'] = coldest_cities['TEMP'].round(1).astype(str) + ' °C'\n",
    "print('Suhu Terdingin:')\n",
    "print(coldest_cities[['station', 'TEMP']].to_string(index=False))\n",
    "\n",
    "# Tampilkan kota-kota terpanas di kolom kedua\n",
    "city_temperatures = data.groupby('station')['TEMP'].max().reset_index()\n",
    "top_cities = city_temperatures.sort_values(by='TEMP', ascending=False).head(3)\n",
    "top_cities['TEMP'] = top_cities['TEMP'].round(1).astype(str) + ' °C'\n",
    "print('\\nSuhu Terpanas:')\n",
    "print(top_cities[['station', 'TEMP']].to_string(index=False))"
   ]
  },
  {
   "cell_type": "code",
   "execution_count": 28,
   "metadata": {},
   "outputs": [
    {
     "data": {
      "image/png": "[encoded data removed]",
      "text/plain": [
       "<Figure size 800x600 with 1 Axes>"
      ]
     },
     "metadata": {},
     "output_type": "display_data"
    },
    {
     "data": {
      "image/png": "[encoded data removed]",
      "text/plain": [
       "<Figure size 800x600 with 1 Axes>"
      ]
     },
     "metadata": {},
     "output_type": "display_data"
    }
   ],
   "source": [
    "\n",
    "# Suhu Terdingin\n",
    "city_temperatures_min = data.groupby('station')['TEMP'].min().reset_index()\n",
    "coldest_cities = city_temperatures_min.sort_values(by='TEMP', ascending=True).head(3)\n",
    "\n",
    "# Suhu Terpanas\n",
    "city_temperatures_max = data.groupby('station')['TEMP'].max().reset_index()\n",
    "top_cities = city_temperatures_max.sort_values(by='TEMP', ascending=False).head(3)\n",
    "\n",
    "# Membuat plot untuk suhu terdingin\n",
    "plt.figure(figsize=(8, 6))\n",
    "plt.bar(coldest_cities['station'], coldest_cities['TEMP'], color='lightblue')\n",
    "plt.xlabel('Kota')\n",
    "plt.ylabel('Suhu Terdingin (°C)')\n",
    "plt.title('Kota dengan Suhu Terdingin')\n",
    "plt.xticks(rotation=45)\n",
    "plt.show()\n",
    "\n",
    "# Membuat plot untuk suhu terpanas\n",
    "plt.figure(figsize=(8, 6))\n",
    "plt.bar(top_cities['station'], top_cities['TEMP'], color='salmon')\n",
    "plt.xlabel('Kota')\n",
    "plt.ylabel('Suhu Terpanas (°C)')\n",
    "plt.title('Kota dengan Suhu Terpanas')\n",
    "plt.xticks(rotation=45)\n",
    "plt.show()"
   ]
  },
  {
   "cell_type": "markdown",
   "metadata": {},
   "source": [
    "### Pertanyaan 3: Melihat rata rata suhu pertahunnya"
   ]
  },
  {
   "cell_type": "code",
   "execution_count": 29,
   "metadata": {},
   "outputs": [
    {
     "name": "stdout",
     "output_type": "stream",
     "text": [
      "Rata-rata kolom TEMP untuk tahun 2017 adalah: 0.67\n",
      "Rata-rata kolom TEMP untuk tahun 2016 adalah: 13.86\n",
      "Rata-rata kolom TEMP untuk tahun 2015 adalah: 13.56\n",
      "Rata-rata kolom TEMP untuk tahun 2014 adalah: 14.29\n",
      "Rata-rata kolom TEMP untuk tahun 2013 adalah: 15.85\n"
     ]
    }
   ],
   "source": [
    "rata_rata_temp_2017 = df[df['year'] == 2017]['TEMP'].mean().round(2)\n",
    "rata_rata_temp_2016 = df[df['year'] == 2016]['TEMP'].mean().round(2)\n",
    "rata_rata_temp_2015 = df[df['year'] == 2015]['TEMP'].mean().round(2)\n",
    "rata_rata_temp_2014 = df[df['year'] == 2014]['TEMP'].mean().round(2)\n",
    "rata_rata_temp_2013 = df[df['year'] == 2013]['TEMP'].mean().round(2)\n",
    "print(\"Rata-rata kolom TEMP untuk tahun 2017 adalah:\", rata_rata_temp_2017)\n",
    "print(\"Rata-rata kolom TEMP untuk tahun 2016 adalah:\", rata_rata_temp_2016)\n",
    "print(\"Rata-rata kolom TEMP untuk tahun 2015 adalah:\", rata_rata_temp_2015)\n",
    "print(\"Rata-rata kolom TEMP untuk tahun 2014 adalah:\", rata_rata_temp_2014)\n",
    "print(\"Rata-rata kolom TEMP untuk tahun 2013 adalah:\", rata_rata_temp_2013)"
   ]
  },
  {
   "cell_type": "code",
   "execution_count": 30,
   "metadata": {},
   "outputs": [
    {
     "data": {
      "image/png": "[encoded data removed]",
      "text/plain": [
       "<Figure size 800x600 with 1 Axes>"
      ]
     },
     "metadata": {},
     "output_type": "display_data"
    }
   ],
   "source": [
    "\n",
    "# Menghitung rata-rata suhu per tahun\n",
    "avg_temp = df.groupby('year')['TEMP'].mean().reset_index()\n",
    "\n",
    "# Membuat grafik rata-rata suhu per tahun\n",
    "plt.figure(figsize=(8, 6))\n",
    "plt.bar(avg_temp['year'], avg_temp['TEMP'], color='skyblue')\n",
    "plt.xlabel('Tahun')\n",
    "plt.ylabel('Rata-Rata Suhu')\n",
    "plt.title('Rata-Rata Suhu per Tahun')\n",
    "plt.xticks(avg_temp['year'])  # Menampilkan semua tahun di sumbu x\n",
    "plt.grid(axis='y')  # Menambahkan grid hanya pada sumbu y\n",
    "plt.show()"
   ]
  },
  {
   "cell_type": "markdown",
   "metadata": {},
   "source": [
    "### Pertanyaan 4 : Kontribusi kota dalam data."
   ]
  },
  {
   "cell_type": "code",
   "execution_count": 31,
   "metadata": {},
   "outputs": [
    {
     "data": {
      "image/png": "[encoded data removed]",
      "text/plain": [
       "<Figure size 640x480 with 1 Axes>"
      ]
     },
     "metadata": {},
     "output_type": "display_data"
    }
   ],
   "source": [
    "\n",
    "# Menghitung kontribusi daerah\n",
    "station_ct = data['station'].value_counts()\n",
    "\n",
    "# Warna gradien\n",
    "colors = plt.cm.Blues(np.linspace(0, 1, len(station_ct)))\n",
    "\n",
    "fig, ax = plt.subplots()\n",
    "pie_wedge_collection = ax.pie(station_ct.values, labels=station_ct.index, autopct='%1.1f%%', startangle=90, colors=colors)\n",
    "ax.axis('equal')  # Agar diagram lingkaran menjadi lingkaran sempurna\n",
    "\n",
    "# Mengatur gradien warna untuk setiap irisan\n",
    "for i, pie_wedge in enumerate(pie_wedge_collection[0]):\n",
    "    pie_wedge.set_facecolor(colors[i])\n",
    "\n",
    "# Tampilkan diagram lingkaran\n",
    "plt.title(\"Kontribusi Daerah dalam Data Cuaca\")\n",
    "plt.show()"
   ]
  },
  {
   "cell_type": "markdown",
   "metadata": {},
   "source": [
    "### Pertanyaan 5:Grafik CO, SO, SUHU, O3, PM10\n",
    "//Ada di dashboard"
   ]
  },
  {
   "cell_type": "markdown",
   "metadata": {},
   "source": [
    "## Kesimpulan"
   ]
  },
  {
   "cell_type": "markdown",
   "metadata": {},
   "source": [
    "1.   Berdasarkan data cuaca tanggal 1 Maret 2013 untuk Aotizhongxin yang ditampilkan, berikut ini adalah analisis dan kesimpulan yang dapat ditarik:\n",
    "\n",
    "   - Suhu berada pada kisaran sub-zero (di bawah titik beku) pada jam-jam awal, dengan titik terendah -2.6°C pada pukul 06:00.\n",
    "   - Terjadi peningkatan suhu dari jam 07:00, dengan suhu kembali ke atas titik beku (0.1°C) pada pukul 08:00.\n",
    "   -  Kondisi cuaca bergantian antara cerah dan mendung, dengan lebih banyak periode mendung di awal hari.\n",
    "   - Tidak ada hujan yang tercatat selama periode waktu ini (kolom RAIN menunjukkan 0).\n",
    "   -  Arah angin dominan adalah dari Utara hingga Utara-Barat Laut (N hingga NNW), dengan perubahan arah yang konsisten sesuai dengan waktu dalam sehari."
   ]
  },
  {
   "cell_type": "markdown",
   "metadata": {},
   "source": [
    "2.      Suhu terdingin:\n",
    "        Huairou: -19.9°C\n",
    "        Aotizhongxin: -16.8°C\n",
    "        Dongsi: -16.8°C\n",
    "\n",
    "        Suhu terpanas:\n",
    "        Gucheng: 41.6°C\n",
    "        Changping: 41.4°C\n",
    "        Dingling: 41.4°C"
   ]
  },
  {
   "cell_type": "markdown",
   "metadata": {},
   "source": [
    "3.      Tahun 2013: Rata-rata suhu sekitar 15.85°C.\n",
    "        Tahun 2014: Rata-rata suhu sekitar 14.29°C.\n",
    "        Tahun 2015: Rata-rata suhu sekitar 13.56°C.\n",
    "        Tahun 2016: Rata-rata suhu sekitar 13.86°C.\n",
    "        Tahun 2017: Rata-rata suhu jauh lebih rendah, yaitu 0.67°C.\n",
    "\n",
    "Ada penurunan rata-rata suhu dari tahun 2013 hingga 2016, dengan penurunan tajam pada tahun 2017."
   ]
  },
  {
   "cell_type": "markdown",
   "metadata": {},
   "source": [
    "4. :\n",
    "\n",
    "    - Diagram menunjukkan kontribusi relatif yang merata dari berbagai daerah terhadap data cuaca yang dikumpulkan atau dianalisis.\n",
    "    - Setiap daerah memberikan kontribusi yang hampir sama, dengan persentase antara 8.3% dan 8.4%.\n",
    "    - Daerah-daerah tersebut adalah Dongsi, Shunyi, Huairou, Gucheng, Dingling, Changping, Wanliu, Guanyuan, Aotizhongxin, Wanshouxigong, Tiantan Nongzhanguan.\n",
    "\n",
    "Kesimpulan yang dapat ditarik adalah bahwa data cuaca yang dikumpulkan telah didistribusikan secara merata di antara daerah-daerah yang disebutkan, menunjukkan bahwa tidak ada bias lokasi yang signifikan dalam pengumpulan data ini. Ini menunjukkan upaya untuk mendapatkan gambaran cuaca yang seimbang dan representatif dari semua area yang tercantum.\n"
   ]
  },
  {
   "cell_type": "markdown",
   "metadata": {},
   "source": [
    "5. :\n",
    "    Grafik tanggal 1 Maret 2013:\n",
    "\n",
    "    - O3 (Ozon): Memiliki fluktuasi tertinggi sepanjang hari, dengan puncaknya di pertengahan hari dan penurunan tajam setelah jam 17:00.\n",
    "    - PM10 (Partikulat ukuran 10 mikrometer atau lebih kecil): Meningkat secara bertahap selama hari dan mencapai puncaknya di malam hari.\n",
    "    - SO2 (Dioksida Sulfur): Fluktuasinya relatif kecil dibandingkan dengan O3 dan PM10, dengan sedikit kenaikan pada sore hari.\n",
    "    - TEMP (Temperatur): Memiliki nilai negatif pada awal hari, menunjukkan suhu di bawah titik beku, dan meningkat sepanjang hari hingga sore hari sebelum mulai turun lagi di malam hari.\n",
    "\n",
    "Kesimpulan yang dapat ditarik adalah bahwa tingkat polusi, terutama ozon, meningkat hingga tengah hari dan menurun di sore hari. Polutan PM10 menunjukkan peningkatan sepanjang hari yang mungkin terkait dengan aktivitas harian dan lalu lintas. Suhu naik dari titik beku di pagi hari hingga lebih hangat di siang hari, kemudian turun lagi setelah matahari terbenam. Dioksida sulfur memiliki tingkat fluktuasi yang lebih sedikit dibandingkan dengan ozon dan partikulat."
   ]
  },
  {
   "cell_type": "code",
   "execution_count": null,
   "metadata": {},
   "outputs": [],
   "source": [
    "!pip freeze > requirements.txt"
   ]
  }
 ],
 "metadata": {
  "kernelspec": {
   "display_name": "Python 3",
   "language": "python",
   "name": "python3"
  },
  "language_info": {
   "codemirror_mode": {
    "name": "ipython",
    "version": 3
   },
   "file_extension": ".py",
   "mimetype": "text/x-python",
   "name": "python",
   "nbconvert_exporter": "python",
   "pygments_lexer": "ipython3",
   "version": "3.11.1"
  },
  "orig_nbformat": 4
 },
 "nbformat": 4,
 "nbformat_minor": 2
}
